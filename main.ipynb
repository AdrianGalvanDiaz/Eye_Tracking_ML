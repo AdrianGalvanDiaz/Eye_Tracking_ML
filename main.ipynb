{
 "cells": [
  {
   "cell_type": "code",
   "execution_count": 1,
   "metadata": {},
   "outputs": [
    {
     "name": "stdout",
     "output_type": "stream",
     "text": [
      "Requirement already satisfied: scipy in c:\\users\\adrian\\appdata\\local\\programs\\python\\python310\\lib\\site-packages (1.14.1)\n",
      "Requirement already satisfied: numpy<2.3,>=1.23.5 in c:\\users\\adrian\\appdata\\local\\programs\\python\\python310\\lib\\site-packages (from scipy) (1.26.4)\n",
      "Note: you may need to restart the kernel to use updated packages.\n"
     ]
    }
   ],
   "source": [
    "pip install scipy\n"
   ]
  },
  {
   "cell_type": "code",
   "execution_count": 2,
   "metadata": {},
   "outputs": [
    {
     "name": "stdout",
     "output_type": "stream",
     "text": [
      "dict_keys(['__header__', '__version__', '__globals__', 'fixLocs'])\n",
      "Forma de la matriz de fijaciones: (1080, 1920)\n",
      "Ejemplo de las primeras filas de coordenadas de fijación:\n",
      "[[0 0 0 ... 0 0 0]\n",
      " [0 0 0 ... 0 0 0]\n",
      " [0 0 0 ... 0 0 0]\n",
      " [0 0 0 ... 0 0 0]\n",
      " [0 0 0 ... 0 0 0]]\n"
     ]
    }
   ],
   "source": [
    "import scipy.io\n",
    "import numpy as np\n",
    "\n",
    "# Ruta del archivo .mat\n",
    "mat_file_path = 'c:/Users/Adrian/Downloads/trainSet/FIXATIONLOCS/Action/001.mat'\n",
    "\n",
    "# Cargamos el archivo .mat\n",
    "mat_data = scipy.io.loadmat(mat_file_path)\n",
    "\n",
    "# Imprimimos las claves disponibles en el archivo para entender qué contiene\n",
    "print(mat_data.keys())\n",
    "\n",
    "# Supongamos que el archivo contiene una matriz con coordenadas de fijación bajo la clave 'fixations'\n",
    "# Accedemos a la matriz de fijaciones usando la clave 'fixLocs'\n",
    "fixations = mat_data.get('fixLocs')\n",
    "\n",
    "# Imprimimos la forma de la matriz y algunas filas de ejemplo para explorar el contenido\n",
    "print(f\"Forma de la matriz de fijaciones: {fixations.shape}\")\n",
    "print(f\"Ejemplo de las primeras filas de coordenadas de fijación:\\n{fixations[:5]}\")\n",
    "\n"
   ]
  },
  {
   "cell_type": "code",
   "execution_count": null,
   "metadata": {},
   "outputs": [],
   "source": [
    "import matplotlib.pyplot as plt\n",
    "import cv2\n",
    "import numpy as np\n",
    "\n",
    "# Ruta de la imagen original (correspondiente al archivo de fijaciones)\n",
    "image_path = 'C:/Users/Adrian/Downloads/trainSet/Stimuli/Action/001.jpg'\n",
    "\n",
    "# Cargamos la imagen con OpenCV\n",
    "image = cv2.imread(image_path)\n",
    "\n",
    "# Convertimos la imagen de BGR a RGB para visualizarla correctamente con Matplotlib\n",
    "image_rgb = cv2.cvtColor(image, cv2.COLOR_BGR2RGB)\n",
    "\n",
    "# Creamos una figura con 3 subplots\n",
    "fig, ax = plt.subplots(1, 3, figsize=(20, 10))\n",
    "\n",
    "# Subplot 1: Imagen original\n",
    "ax[0].imshow(image_rgb)\n",
    "ax[0].set_title('Imagen Original')\n",
    "ax[0].axis('on')  # Ocultar ejes\n",
    "\n",
    "# Subplot 2: Imagen con los puntos de fijación\n",
    "ax[1].imshow(image_rgb)\n",
    "fixation_coords = np.argwhere(fixations == 1)\n",
    "for coord in fixation_coords:\n",
    "    ax[1].scatter(coord[1], coord[0], c='red', s=10)  # coord[1] es X y coord[0] es Y\n",
    "ax[1].set_title('Imagen con Fijaciones')\n",
    "ax[1].axis('on')  # Ocultar ejes\n",
    "\n",
    "# Subplot 3: Solo fijaciones\n",
    "ax[2].imshow(np.zeros_like(image_rgb))  # Fondo negro\n",
    "for coord in fixation_coords:\n",
    "    ax[2].scatter(coord[1], coord[0], c='red', s=10)  # coord[1] es X y coord[0] es Y\n",
    "ax[2].set_title('Solo Fijaciones')\n",
    "ax[2].axis('on')  # Ocultar ejes\n",
    "\n",
    "# Mostrar la figuraa\n",
    "plt.show()\n"
   ]
  },
  {
   "cell_type": "markdown",
   "metadata": {},
   "source": [
    "# Preprocessing"
   ]
  },
  {
   "cell_type": "code",
   "execution_count": null,
   "metadata": {},
   "outputs": [],
   "source": [
    "# Obtener el tamaño de la imagen (ancho y alto)\n",
    "image_height, image_width, _ = image_rgb.shape\n",
    "\n",
    "# Normalizamos las coordenadas de fijación dividiendo por el ancho y alto de la imagen\n",
    "fixation_coords_normalized = fixation_coords.copy()\n",
    "fixation_coords_normalized[:, 0] = fixation_coords[:, 0] / image_height  # Normalizamos Y\n",
    "fixation_coords_normalized[:, 1] = fixation_coords[:, 1] / image_width   # Normalizamos X\n",
    "\n",
    "# Mostramos algunos ejemplos de las coordenadas normalizadas\n",
    "print(f\"Ejemplo de coordenadas normalizadas:\\n{fixation_coords_normalized[:5]}\")\n"
   ]
  },
  {
   "cell_type": "code",
   "execution_count": null,
   "metadata": {},
   "outputs": [],
   "source": [
    "plt.hist(fixation_coords[:, 0], bins=50, alpha=0.5, label='Y-coordinates')\n",
    "plt.hist(fixation_coords[:, 1], bins=50, alpha=0.5, label='X-coordinates')\n",
    "plt.legend(loc='upper right')\n",
    "plt.title('Distribución de las Coordenadas de Fijación')\n",
    "plt.show()\n"
   ]
  },
  {
   "cell_type": "code",
   "execution_count": null,
   "metadata": {},
   "outputs": [],
   "source": [
    "# Aumentamos más el tamaño de los puntos de fijación para que sean más visibles\n",
    "# En lugar de solo aumentar un rango pequeño, hacemos un área mayor alrededor de cada fijación\n",
    "fixation_mask = np.zeros((image_height, image_width), dtype=np.float32)\n",
    "\n",
    "# Aumentamos el rango de píxeles alrededor de cada coordenada de fijación\n",
    "for coord in fixation_coords:\n",
    "    y, x = coord[0], coord[1]\n",
    "    fixation_mask[y-5:y+5, x-5:x+5] = 1  # Aumenta el rango de -5 a +5 píxeles\n",
    "\n",
    "# Mostramos la máscara de fijaciones con puntos más grandes\n",
    "plt.figure(figsize=(5, 5))\n",
    "plt.imshow(fixation_mask, cmap='gray')\n",
    "plt.title('Máscara de Fijaciones (Puntos grandes)')\n",
    "plt.axis('off')\n",
    "plt.show()\n"
   ]
  },
  {
   "cell_type": "code",
   "execution_count": null,
   "metadata": {},
   "outputs": [],
   "source": [
    "import scipy.ndimage\n",
    "\n",
    "# Creamos un mapa de calor vacío del tamaño de la imagen\n",
    "heatmap = np.zeros((image_height, image_width), dtype=np.float32)\n",
    "\n",
    "# Agregamos las fijaciones al mapa de calor, aumentando el valor en las coordenadas de fijación\n",
    "for coord in fixation_coords:\n",
    "    y, x = coord[0], coord[1]\n",
    "    heatmap[y, x] += 1  # Incrementamos el valor en cada punto de fijación\n",
    "\n",
    "# Aplicamos una convolución gaussiana para suavizar el mapa de calor (crear un efecto de \"difusión\")\n",
    "heatmap = scipy.ndimage.gaussian_filter(heatmap, sigma=15)  # Ajusta sigma para suavizar más o menos\n",
    "\n",
    "# Normalizamos el mapa de calor para que esté entre 0 y 1\n",
    "heatmap /= np.max(heatmap)\n",
    "\n",
    "# Mostramos el mapa de calor\n",
    "plt.figure(figsize=(5, 5))\n",
    "plt.imshow(heatmap, cmap='hot')  # Colormap \"hot\" para representar el calor\n",
    "plt.title('Mapa de Calor de Fijaciones')\n",
    "plt.axis('off')\n",
    "plt.show()\n"
   ]
  },
  {
   "cell_type": "code",
   "execution_count": null,
   "metadata": {},
   "outputs": [],
   "source": [
    "import numpy as np\n",
    "\n",
    "# Supongamos que ya cargaste la matriz de fijaciones desde el archivo .mat\n",
    "# Usamos la variable 'fixations' como ejemplo de la matriz cargada\n",
    "\n",
    "# Obtenemos los valores únicos de la matriz\n",
    "valores_unicos = np.unique(fixations)\n",
    "\n",
    "# Imprimimos los valores únicos\n",
    "print(f\"Valores únicos en la matriz: {valores_unicos}\")\n",
    "\n",
    "# Verificamos si la matriz contiene únicamente 0s y 1s\n",
    "if np.array_equal(valores_unicos, [0, 1]):\n",
    "    print(\"La matriz solo contiene 0s y 1s (es binaria).\")\n",
    "else:\n",
    "    print(\"La matriz contiene otros valores además de 0s y 1s.\")\n"
   ]
  }
 ],
 "metadata": {
  "kernelspec": {
   "display_name": "Python 3",
   "language": "python",
   "name": "python3"
  },
  "language_info": {
   "codemirror_mode": {
    "name": "ipython",
    "version": 3
   },
   "file_extension": ".py",
   "mimetype": "text/x-python",
   "name": "python",
   "nbconvert_exporter": "python",
   "pygments_lexer": "ipython3",
   "version": "3.10.0"
  }
 },
 "nbformat": 4,
 "nbformat_minor": 2
}
